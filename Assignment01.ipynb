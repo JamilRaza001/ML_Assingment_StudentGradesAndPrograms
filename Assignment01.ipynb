{
 "cells": [
  {
   "cell_type": "code",
   "execution_count": 1,
   "id": "b044f956-bc2e-47dd-8d16-e62126d0e06b",
   "metadata": {},
   "outputs": [],
   "source": [
    "import pandas as pd\n",
    "import matplotlib.pyplot as plt\n",
    "import seaborn as sns"
   ]
  },
  {
   "cell_type": "code",
   "execution_count": 2,
   "id": "884b877c-9d1b-44e7-b481-f481fbfd59a1",
   "metadata": {},
   "outputs": [
    {
     "name": "stderr",
     "output_type": "stream",
     "text": [
      "C:\\Users\\Muhammad Ramzan LLC\\AppData\\Local\\Temp\\ipykernel_11848\\1036418622.py:1: DtypeWarning: Columns (2) have mixed types. Specify dtype option on import or set low_memory=False.\n",
      "  data=pd.read_csv(\"StudentGradesAndPrograms.csv\")\n"
     ]
    }
   ],
   "source": [
    "data=pd.read_csv(\"StudentGradesAndPrograms.csv\")"
   ]
  },
  {
   "cell_type": "code",
   "execution_count": 3,
   "id": "b43dbc26-9e31-44b0-be4a-e41fa73dd110",
   "metadata": {},
   "outputs": [
    {
     "data": {
      "text/html": [
       "<div>\n",
       "<style scoped>\n",
       "    .dataframe tbody tr th:only-of-type {\n",
       "        vertical-align: middle;\n",
       "    }\n",
       "\n",
       "    .dataframe tbody tr th {\n",
       "        vertical-align: top;\n",
       "    }\n",
       "\n",
       "    .dataframe thead th {\n",
       "        text-align: right;\n",
       "    }\n",
       "</style>\n",
       "<table border=\"1\" class=\"dataframe\">\n",
       "  <thead>\n",
       "    <tr style=\"text-align: right;\">\n",
       "      <th></th>\n",
       "      <th>schoolyear</th>\n",
       "      <th>gradeLevel</th>\n",
       "      <th>classPeriod</th>\n",
       "      <th>classType</th>\n",
       "      <th>schoolName</th>\n",
       "      <th>gradePercentage</th>\n",
       "      <th>avid</th>\n",
       "      <th>sped</th>\n",
       "      <th>migrant</th>\n",
       "      <th>ell</th>\n",
       "      <th>student_ID</th>\n",
       "    </tr>\n",
       "  </thead>\n",
       "  <tbody>\n",
       "    <tr>\n",
       "      <th>0</th>\n",
       "      <td>2024-2025</td>\n",
       "      <td>07</td>\n",
       "      <td>1</td>\n",
       "      <td>ELE</td>\n",
       "      <td>West Junior High</td>\n",
       "      <td>2000.0</td>\n",
       "      <td>Y</td>\n",
       "      <td>N</td>\n",
       "      <td>N</td>\n",
       "      <td>N</td>\n",
       "      <td>0HRJHI993</td>\n",
       "    </tr>\n",
       "    <tr>\n",
       "      <th>1</th>\n",
       "      <td>2024-2025</td>\n",
       "      <td>07</td>\n",
       "      <td>1</td>\n",
       "      <td>ELE</td>\n",
       "      <td>West Junior High</td>\n",
       "      <td>2000.0</td>\n",
       "      <td>N</td>\n",
       "      <td>N</td>\n",
       "      <td>N</td>\n",
       "      <td>N</td>\n",
       "      <td>CKN322II4</td>\n",
       "    </tr>\n",
       "    <tr>\n",
       "      <th>2</th>\n",
       "      <td>2024-2025</td>\n",
       "      <td>07</td>\n",
       "      <td>1</td>\n",
       "      <td>ELE</td>\n",
       "      <td>West Junior High</td>\n",
       "      <td>1950.0</td>\n",
       "      <td>N</td>\n",
       "      <td>N</td>\n",
       "      <td>N</td>\n",
       "      <td>N</td>\n",
       "      <td>V523OZUH8</td>\n",
       "    </tr>\n",
       "    <tr>\n",
       "      <th>3</th>\n",
       "      <td>2024-2025</td>\n",
       "      <td>07</td>\n",
       "      <td>1</td>\n",
       "      <td>ELE</td>\n",
       "      <td>West Junior High</td>\n",
       "      <td>1850.0</td>\n",
       "      <td>Y</td>\n",
       "      <td>N</td>\n",
       "      <td>N</td>\n",
       "      <td>N</td>\n",
       "      <td>OJDYS3434</td>\n",
       "    </tr>\n",
       "    <tr>\n",
       "      <th>4</th>\n",
       "      <td>2024-2025</td>\n",
       "      <td>07</td>\n",
       "      <td>1</td>\n",
       "      <td>ELE</td>\n",
       "      <td>West Junior High</td>\n",
       "      <td>1500.0</td>\n",
       "      <td>N</td>\n",
       "      <td>N</td>\n",
       "      <td>Y</td>\n",
       "      <td>Y</td>\n",
       "      <td>49RSM3UF6</td>\n",
       "    </tr>\n",
       "  </tbody>\n",
       "</table>\n",
       "</div>"
      ],
      "text/plain": [
       "  schoolyear gradeLevel classPeriod classType        schoolName  \\\n",
       "0  2024-2025         07           1       ELE  West Junior High   \n",
       "1  2024-2025         07           1       ELE  West Junior High   \n",
       "2  2024-2025         07           1       ELE  West Junior High   \n",
       "3  2024-2025         07           1       ELE  West Junior High   \n",
       "4  2024-2025         07           1       ELE  West Junior High   \n",
       "\n",
       "   gradePercentage avid sped migrant ell student_ID  \n",
       "0           2000.0    Y    N       N   N  0HRJHI993  \n",
       "1           2000.0    N    N       N   N  CKN322II4  \n",
       "2           1950.0    N    N       N   N  V523OZUH8  \n",
       "3           1850.0    Y    N       N   N  OJDYS3434  \n",
       "4           1500.0    N    N       Y   Y  49RSM3UF6  "
      ]
     },
     "execution_count": 3,
     "metadata": {},
     "output_type": "execute_result"
    }
   ],
   "source": [
    "data.head()"
   ]
  },
  {
   "cell_type": "code",
   "execution_count": 4,
   "id": "c09cfc7a-8fc4-46b3-815d-da6ed2c45c1b",
   "metadata": {},
   "outputs": [
    {
     "name": "stdout",
     "output_type": "stream",
     "text": [
      "<class 'pandas.core.frame.DataFrame'>\n",
      "RangeIndex: 200994 entries, 0 to 200993\n",
      "Data columns (total 11 columns):\n",
      " #   Column           Non-Null Count   Dtype  \n",
      "---  ------           --------------   -----  \n",
      " 0   schoolyear       200994 non-null  object \n",
      " 1   gradeLevel       200994 non-null  object \n",
      " 2   classPeriod      200994 non-null  object \n",
      " 3   classType        200994 non-null  object \n",
      " 4   schoolName       200994 non-null  object \n",
      " 5   gradePercentage  200994 non-null  float64\n",
      " 6   avid             200994 non-null  object \n",
      " 7   sped             200994 non-null  object \n",
      " 8   migrant          200994 non-null  object \n",
      " 9   ell              200994 non-null  object \n",
      " 10  student_ID       200994 non-null  object \n",
      "dtypes: float64(1), object(10)\n",
      "memory usage: 16.9+ MB\n"
     ]
    }
   ],
   "source": [
    "data.info()"
   ]
  },
  {
   "cell_type": "code",
   "execution_count": 5,
   "id": "c045ad0f-0797-4e04-a615-099754027c51",
   "metadata": {},
   "outputs": [
    {
     "data": {
      "text/plain": [
       "schoolyear         0\n",
       "gradeLevel         0\n",
       "classPeriod        0\n",
       "classType          0\n",
       "schoolName         0\n",
       "gradePercentage    0\n",
       "avid               0\n",
       "sped               0\n",
       "migrant            0\n",
       "ell                0\n",
       "student_ID         0\n",
       "dtype: int64"
      ]
     },
     "execution_count": 5,
     "metadata": {},
     "output_type": "execute_result"
    }
   ],
   "source": [
    "data.isna().sum()"
   ]
  },
  {
   "cell_type": "code",
   "execution_count": 6,
   "id": "bf2af957-9223-428e-a560-315cbd21b89c",
   "metadata": {},
   "outputs": [
    {
     "data": {
      "text/plain": [
       "0"
      ]
     },
     "execution_count": 6,
     "metadata": {},
     "output_type": "execute_result"
    }
   ],
   "source": [
    "data.duplicated().sum()"
   ]
  },
  {
   "cell_type": "code",
   "execution_count": 7,
   "id": "8d5c5a76-ab4a-4cf2-b5d7-e9db012b7cbe",
   "metadata": {},
   "outputs": [
    {
     "data": {
      "text/plain": [
       "(200994, 11)"
      ]
     },
     "execution_count": 7,
     "metadata": {},
     "output_type": "execute_result"
    }
   ],
   "source": [
    "data.shape"
   ]
  },
  {
   "cell_type": "code",
   "execution_count": 8,
   "id": "6df197a2-b901-4f0d-a53e-d1ba845b2973",
   "metadata": {},
   "outputs": [
    {
     "data": {
      "text/plain": [
       "Index(['schoolyear', 'gradeLevel', 'classPeriod', 'classType', 'schoolName',\n",
       "       'gradePercentage', 'avid', 'sped', 'migrant', 'ell', 'student_ID'],\n",
       "      dtype='object')"
      ]
     },
     "execution_count": 8,
     "metadata": {},
     "output_type": "execute_result"
    }
   ],
   "source": [
    "data.columns"
   ]
  },
  {
   "cell_type": "code",
   "execution_count": 9,
   "id": "60b094d8-4011-42bf-856f-c839e812c4f4",
   "metadata": {},
   "outputs": [],
   "source": [
    "data.drop(['student_ID','schoolyear'],inplace=True,axis=1)"
   ]
  },
  {
   "cell_type": "code",
   "execution_count": 10,
   "id": "7f5edfb2-9a99-45e2-a78c-0bc5aad9f61d",
   "metadata": {},
   "outputs": [
    {
     "data": {
      "text/plain": [
       "Index(['gradeLevel', 'classPeriod', 'classType', 'schoolName',\n",
       "       'gradePercentage', 'avid', 'sped', 'migrant', 'ell'],\n",
       "      dtype='object')"
      ]
     },
     "execution_count": 10,
     "metadata": {},
     "output_type": "execute_result"
    }
   ],
   "source": [
    "data.columns"
   ]
  },
  {
   "cell_type": "code",
   "execution_count": 11,
   "id": "a6741c48-c152-4581-936e-7a7cd0ea86d0",
   "metadata": {},
   "outputs": [
    {
     "data": {
      "text/html": [
       "<div>\n",
       "<style scoped>\n",
       "    .dataframe tbody tr th:only-of-type {\n",
       "        vertical-align: middle;\n",
       "    }\n",
       "\n",
       "    .dataframe tbody tr th {\n",
       "        vertical-align: top;\n",
       "    }\n",
       "\n",
       "    .dataframe thead th {\n",
       "        text-align: right;\n",
       "    }\n",
       "</style>\n",
       "<table border=\"1\" class=\"dataframe\">\n",
       "  <thead>\n",
       "    <tr style=\"text-align: right;\">\n",
       "      <th></th>\n",
       "      <th>gradeLevel</th>\n",
       "      <th>classPeriod</th>\n",
       "      <th>classType</th>\n",
       "      <th>schoolName</th>\n",
       "      <th>gradePercentage</th>\n",
       "      <th>avid</th>\n",
       "      <th>sped</th>\n",
       "      <th>migrant</th>\n",
       "      <th>ell</th>\n",
       "    </tr>\n",
       "  </thead>\n",
       "  <tbody>\n",
       "    <tr>\n",
       "      <th>0</th>\n",
       "      <td>07</td>\n",
       "      <td>1</td>\n",
       "      <td>ELE</td>\n",
       "      <td>West Junior High</td>\n",
       "      <td>2000.0</td>\n",
       "      <td>Y</td>\n",
       "      <td>N</td>\n",
       "      <td>N</td>\n",
       "      <td>N</td>\n",
       "    </tr>\n",
       "    <tr>\n",
       "      <th>1</th>\n",
       "      <td>07</td>\n",
       "      <td>1</td>\n",
       "      <td>ELE</td>\n",
       "      <td>West Junior High</td>\n",
       "      <td>2000.0</td>\n",
       "      <td>N</td>\n",
       "      <td>N</td>\n",
       "      <td>N</td>\n",
       "      <td>N</td>\n",
       "    </tr>\n",
       "    <tr>\n",
       "      <th>2</th>\n",
       "      <td>07</td>\n",
       "      <td>1</td>\n",
       "      <td>ELE</td>\n",
       "      <td>West Junior High</td>\n",
       "      <td>1950.0</td>\n",
       "      <td>N</td>\n",
       "      <td>N</td>\n",
       "      <td>N</td>\n",
       "      <td>N</td>\n",
       "    </tr>\n",
       "    <tr>\n",
       "      <th>3</th>\n",
       "      <td>07</td>\n",
       "      <td>1</td>\n",
       "      <td>ELE</td>\n",
       "      <td>West Junior High</td>\n",
       "      <td>1850.0</td>\n",
       "      <td>Y</td>\n",
       "      <td>N</td>\n",
       "      <td>N</td>\n",
       "      <td>N</td>\n",
       "    </tr>\n",
       "    <tr>\n",
       "      <th>4</th>\n",
       "      <td>07</td>\n",
       "      <td>1</td>\n",
       "      <td>ELE</td>\n",
       "      <td>West Junior High</td>\n",
       "      <td>1500.0</td>\n",
       "      <td>N</td>\n",
       "      <td>N</td>\n",
       "      <td>Y</td>\n",
       "      <td>Y</td>\n",
       "    </tr>\n",
       "  </tbody>\n",
       "</table>\n",
       "</div>"
      ],
      "text/plain": [
       "  gradeLevel classPeriod classType        schoolName  gradePercentage avid  \\\n",
       "0         07           1       ELE  West Junior High           2000.0    Y   \n",
       "1         07           1       ELE  West Junior High           2000.0    N   \n",
       "2         07           1       ELE  West Junior High           1950.0    N   \n",
       "3         07           1       ELE  West Junior High           1850.0    Y   \n",
       "4         07           1       ELE  West Junior High           1500.0    N   \n",
       "\n",
       "  sped migrant ell  \n",
       "0    N       N   N  \n",
       "1    N       N   N  \n",
       "2    N       N   N  \n",
       "3    N       N   N  \n",
       "4    N       Y   Y  "
      ]
     },
     "execution_count": 11,
     "metadata": {},
     "output_type": "execute_result"
    }
   ],
   "source": [
    "data.head()"
   ]
  },
  {
   "cell_type": "code",
   "execution_count": 12,
   "id": "e008a290-8e55-457c-8d0f-a267b4ed29e4",
   "metadata": {},
   "outputs": [
    {
     "data": {
      "text/plain": [
       "array(['West Junior High', 'Allfeather Middle School',\n",
       "       'North Junior High', 'East Junior High',\n",
       "       'Cloudy Elementary School', 'Hall Elementary School',\n",
       "       'Maria Flowers Elementary School',\n",
       "       'Washington Stone Elementary School', 'Gale Elementary School',\n",
       "       'South Junior High', 'Seaside Elementary School',\n",
       "       'Rocky Elementary School', 'Sunny Hillside Elementary School',\n",
       "       'Grand River Elementary School', 'Tulip Beach Elementary School',\n",
       "       'Online Learning School', 'Leafy Elementary School',\n",
       "       'Elk Meadow Elementary School', 'Circle Elementary School'],\n",
       "      dtype=object)"
      ]
     },
     "execution_count": 12,
     "metadata": {},
     "output_type": "execute_result"
    }
   ],
   "source": [
    "data.schoolName.unique()"
   ]
  },
  {
   "cell_type": "code",
   "execution_count": 13,
   "id": "ce4a7feb-8b08-4526-835e-ea53bf86f4ae",
   "metadata": {},
   "outputs": [
    {
     "data": {
      "text/plain": [
       "array(['ELE', 'MAT', 'SOC', 'ENG', 'MUS', 'ART', 'SCI', 'MS', 'PE', 'IN'],\n",
       "      dtype=object)"
      ]
     },
     "execution_count": 13,
     "metadata": {},
     "output_type": "execute_result"
    }
   ],
   "source": [
    "data.classType.unique()"
   ]
  },
  {
   "cell_type": "code",
   "execution_count": 14,
   "id": "bc9c5d2f-3645-4cbb-b454-36a7ab857f93",
   "metadata": {},
   "outputs": [
    {
     "data": {
      "text/plain": [
       "array([1, 4, 7, 3, 2, 5, 9, 6, 0, 8, 15, '6', '3', '1', '5', '2', '7',\n",
       "       '4', '8', '9', '0', '3-18', '2-27', '2-17', '15', '12', '4-29',\n",
       "       '5-30', '14', '18', '17', '19', '16', '3-28', '5-20', '13', '4-19',\n",
       "       '2-22', '3-23', '4-24', '5-25'], dtype=object)"
      ]
     },
     "execution_count": 14,
     "metadata": {},
     "output_type": "execute_result"
    }
   ],
   "source": [
    "data.classPeriod.unique()"
   ]
  },
  {
   "cell_type": "code",
   "execution_count": 15,
   "id": "7fb52053-a99a-4242-ba2c-be46bb19a105",
   "metadata": {},
   "outputs": [
    {
     "data": {
      "text/plain": [
       "Index(['gradeLevel', 'classPeriod', 'classType', 'schoolName',\n",
       "       'gradePercentage', 'avid', 'sped', 'migrant', 'ell'],\n",
       "      dtype='object')"
      ]
     },
     "execution_count": 15,
     "metadata": {},
     "output_type": "execute_result"
    }
   ],
   "source": [
    "data.columns\n"
   ]
  },
  {
   "cell_type": "code",
   "execution_count": 16,
   "id": "1449670f-fbd0-4e0a-bb8e-05ad5d112e33",
   "metadata": {},
   "outputs": [
    {
     "data": {
      "text/plain": [
       "array(['07', '08', '06', '04', '03', '02', 'KG', '05', '01', 'UE'],\n",
       "      dtype=object)"
      ]
     },
     "execution_count": 16,
     "metadata": {},
     "output_type": "execute_result"
    }
   ],
   "source": [
    "data.gradeLevel.unique()"
   ]
  },
  {
   "cell_type": "code",
   "execution_count": 17,
   "id": "89b1132f-523e-4898-b487-af572d0b5994",
   "metadata": {},
   "outputs": [],
   "source": [
    "data[\"gradeLevel\"]=data[\"gradeLevel\"].apply(lambda x: 10 if x=='KG' else x)\n",
    "data[\"gradeLevel\"]=data[\"gradeLevel\"].apply(lambda x: 9 if x=='UE' else x)"
   ]
  },
  {
   "cell_type": "code",
   "execution_count": 18,
   "id": "300e41ed-3782-4119-952b-72da2051f35a",
   "metadata": {},
   "outputs": [
    {
     "data": {
      "text/plain": [
       "array(['07', '08', '06', '04', '03', '02', 10, '05', '01', 9],\n",
       "      dtype=object)"
      ]
     },
     "execution_count": 18,
     "metadata": {},
     "output_type": "execute_result"
    }
   ],
   "source": [
    "data.gradeLevel.unique()"
   ]
  },
  {
   "cell_type": "code",
   "execution_count": 19,
   "id": "49ef6a05-0328-471e-9701-58bf287f286a",
   "metadata": {},
   "outputs": [],
   "source": [
    "data['gradeLevel'] = data['gradeLevel'].astype(int)"
   ]
  },
  {
   "cell_type": "code",
   "execution_count": 20,
   "id": "185c00f1-c2d6-426c-a272-b4b6f137d4a4",
   "metadata": {},
   "outputs": [
    {
     "data": {
      "text/plain": [
       "array([ 7,  8,  6,  4,  3,  2, 10,  5,  1,  9])"
      ]
     },
     "execution_count": 20,
     "metadata": {},
     "output_type": "execute_result"
    }
   ],
   "source": [
    "data.gradeLevel.unique()"
   ]
  },
  {
   "cell_type": "code",
   "execution_count": 21,
   "id": "328d7cd3-5984-4700-9cda-940aad9ec78b",
   "metadata": {},
   "outputs": [
    {
     "name": "stdout",
     "output_type": "stream",
     "text": [
      "<class 'pandas.core.frame.DataFrame'>\n",
      "RangeIndex: 200994 entries, 0 to 200993\n",
      "Data columns (total 9 columns):\n",
      " #   Column           Non-Null Count   Dtype  \n",
      "---  ------           --------------   -----  \n",
      " 0   gradeLevel       200994 non-null  int32  \n",
      " 1   classPeriod      200994 non-null  object \n",
      " 2   classType        200994 non-null  object \n",
      " 3   schoolName       200994 non-null  object \n",
      " 4   gradePercentage  200994 non-null  float64\n",
      " 5   avid             200994 non-null  object \n",
      " 6   sped             200994 non-null  object \n",
      " 7   migrant          200994 non-null  object \n",
      " 8   ell              200994 non-null  object \n",
      "dtypes: float64(1), int32(1), object(7)\n",
      "memory usage: 13.0+ MB\n"
     ]
    }
   ],
   "source": [
    "data.info()"
   ]
  },
  {
   "cell_type": "code",
   "execution_count": 22,
   "id": "7660e2e1-73c3-4f3b-a70d-0a708711c44c",
   "metadata": {},
   "outputs": [
    {
     "data": {
      "text/plain": [
       "array([1, 4, 7, 3, 2, 5, 9, 6, 0, 8, 15, '6', '3', '1', '5', '2', '7',\n",
       "       '4', '8', '9', '0', '3-18', '2-27', '2-17', '15', '12', '4-29',\n",
       "       '5-30', '14', '18', '17', '19', '16', '3-28', '5-20', '13', '4-19',\n",
       "       '2-22', '3-23', '4-24', '5-25'], dtype=object)"
      ]
     },
     "execution_count": 22,
     "metadata": {},
     "output_type": "execute_result"
    }
   ],
   "source": [
    "data.classPeriod.unique()"
   ]
  },
  {
   "cell_type": "code",
   "execution_count": 23,
   "id": "a008ca1d-b058-496c-87fc-3423f0e98e45",
   "metadata": {},
   "outputs": [],
   "source": [
    "data = data[(data[\"classPeriod\"] != '3-18') & (data[\"classPeriod\"] != '2-27') & (data[\"classPeriod\"] != '2-17') & (data[\"classPeriod\"] != '4-29') & (data[\"classPeriod\"] != '5-30') & (data[\"classPeriod\"] != '3-28') & (data[\"classPeriod\"] != '5-20') & (data[\"classPeriod\"] != '4-19') & (data[\"classPeriod\"] != '2-22') & (data[\"classPeriod\"] != '3-23') & (data[\"classPeriod\"] != '4-24') & (data[\"classPeriod\"] != '5-25')]"
   ]
  },
  {
   "cell_type": "code",
   "execution_count": 24,
   "id": "b494b1b2-8a0c-4447-acdd-2ea0fef5bbed",
   "metadata": {},
   "outputs": [
    {
     "data": {
      "text/plain": [
       "array([1, 4, 7, 3, 2, 5, 9, 6, 0, 8, 15, '6', '3', '1', '5', '2', '7',\n",
       "       '4', '8', '9', '0', '15', '12', '14', '18', '17', '19', '16', '13'],\n",
       "      dtype=object)"
      ]
     },
     "execution_count": 24,
     "metadata": {},
     "output_type": "execute_result"
    }
   ],
   "source": [
    "data.classPeriod.unique()"
   ]
  },
  {
   "cell_type": "code",
   "execution_count": 25,
   "id": "e7ba91b9-76c1-4240-8789-b802a1912ad2",
   "metadata": {},
   "outputs": [],
   "source": [
    "data['classPeriod'] = data[\"classPeriod\"].astype(int)"
   ]
  },
  {
   "cell_type": "code",
   "execution_count": 26,
   "id": "675e3b3c-4dab-4238-ad1a-4d68469f9054",
   "metadata": {},
   "outputs": [
    {
     "name": "stdout",
     "output_type": "stream",
     "text": [
      "<class 'pandas.core.frame.DataFrame'>\n",
      "Index: 200981 entries, 0 to 200993\n",
      "Data columns (total 9 columns):\n",
      " #   Column           Non-Null Count   Dtype  \n",
      "---  ------           --------------   -----  \n",
      " 0   gradeLevel       200981 non-null  int32  \n",
      " 1   classPeriod      200981 non-null  int32  \n",
      " 2   classType        200981 non-null  object \n",
      " 3   schoolName       200981 non-null  object \n",
      " 4   gradePercentage  200981 non-null  float64\n",
      " 5   avid             200981 non-null  object \n",
      " 6   sped             200981 non-null  object \n",
      " 7   migrant          200981 non-null  object \n",
      " 8   ell              200981 non-null  object \n",
      "dtypes: float64(1), int32(2), object(6)\n",
      "memory usage: 13.8+ MB\n"
     ]
    }
   ],
   "source": [
    "data.info()"
   ]
  },
  {
   "cell_type": "code",
   "execution_count": 27,
   "id": "43fa140d-6b90-4769-a140-74a70a5f2513",
   "metadata": {},
   "outputs": [
    {
     "data": {
      "text/plain": [
       "array(['ELE', 'MAT', 'SOC', 'ENG', 'MUS', 'ART', 'SCI', 'MS', 'PE', 'IN'],\n",
       "      dtype=object)"
      ]
     },
     "execution_count": 27,
     "metadata": {},
     "output_type": "execute_result"
    }
   ],
   "source": [
    "data[\"classType\"].unique()"
   ]
  },
  {
   "cell_type": "code",
   "execution_count": 28,
   "id": "5cab10a6-787e-4368-b9da-c67496f28906",
   "metadata": {},
   "outputs": [],
   "source": [
    "from sklearn.preprocessing import LabelEncoder"
   ]
  },
  {
   "cell_type": "code",
   "execution_count": 29,
   "id": "0e20d5ec-6180-4421-bc06-234953a2f688",
   "metadata": {},
   "outputs": [],
   "source": [
    "LE = LabelEncoder()"
   ]
  },
  {
   "cell_type": "code",
   "execution_count": 30,
   "id": "c5689479-c2f8-4422-85ec-349b2d98c315",
   "metadata": {},
   "outputs": [],
   "source": [
    "data['classType'] = LE.fit_transform(data['classType'])"
   ]
  },
  {
   "cell_type": "code",
   "execution_count": 31,
   "id": "a70a96be-2de0-4124-8d16-220f59b42124",
   "metadata": {},
   "outputs": [
    {
     "data": {
      "text/plain": [
       "array([1, 4, 9, 2, 6, 0, 8, 5, 7, 3])"
      ]
     },
     "execution_count": 31,
     "metadata": {},
     "output_type": "execute_result"
    }
   ],
   "source": [
    "data['classType'].unique()"
   ]
  },
  {
   "cell_type": "code",
   "execution_count": 32,
   "id": "46c3162e-181d-45d1-b00c-941fc2ef17d7",
   "metadata": {},
   "outputs": [
    {
     "name": "stdout",
     "output_type": "stream",
     "text": [
      "<class 'pandas.core.frame.DataFrame'>\n",
      "Index: 200981 entries, 0 to 200993\n",
      "Data columns (total 9 columns):\n",
      " #   Column           Non-Null Count   Dtype  \n",
      "---  ------           --------------   -----  \n",
      " 0   gradeLevel       200981 non-null  int32  \n",
      " 1   classPeriod      200981 non-null  int32  \n",
      " 2   classType        200981 non-null  int32  \n",
      " 3   schoolName       200981 non-null  object \n",
      " 4   gradePercentage  200981 non-null  float64\n",
      " 5   avid             200981 non-null  object \n",
      " 6   sped             200981 non-null  object \n",
      " 7   migrant          200981 non-null  object \n",
      " 8   ell              200981 non-null  object \n",
      "dtypes: float64(1), int32(3), object(5)\n",
      "memory usage: 13.0+ MB\n"
     ]
    }
   ],
   "source": [
    "data.info()"
   ]
  },
  {
   "cell_type": "code",
   "execution_count": 33,
   "id": "106df781-5107-44f1-8e82-4032d0b571c4",
   "metadata": {},
   "outputs": [
    {
     "data": {
      "text/plain": [
       "array(['West Junior High', 'Allfeather Middle School',\n",
       "       'North Junior High', 'East Junior High',\n",
       "       'Cloudy Elementary School', 'Hall Elementary School',\n",
       "       'Maria Flowers Elementary School',\n",
       "       'Washington Stone Elementary School', 'Gale Elementary School',\n",
       "       'South Junior High', 'Seaside Elementary School',\n",
       "       'Rocky Elementary School', 'Sunny Hillside Elementary School',\n",
       "       'Grand River Elementary School', 'Tulip Beach Elementary School',\n",
       "       'Online Learning School', 'Leafy Elementary School',\n",
       "       'Elk Meadow Elementary School', 'Circle Elementary School'],\n",
       "      dtype=object)"
      ]
     },
     "execution_count": 33,
     "metadata": {},
     "output_type": "execute_result"
    }
   ],
   "source": [
    "data[\"schoolName\"].unique()"
   ]
  },
  {
   "cell_type": "code",
   "execution_count": 34,
   "id": "9dae3141-503d-4c55-b462-3f43f82b821d",
   "metadata": {},
   "outputs": [],
   "source": [
    "data['schoolName'] = LE.fit_transform(data['schoolName'])"
   ]
  },
  {
   "cell_type": "code",
   "execution_count": 35,
   "id": "08e33959-296f-4931-b212-18d389114d84",
   "metadata": {},
   "outputs": [
    {
     "data": {
      "text/plain": [
       "array([18,  0, 10,  3,  2,  7,  9, 17,  5, 14, 13, 12, 15,  6, 16, 11,  8,\n",
       "        4,  1])"
      ]
     },
     "execution_count": 35,
     "metadata": {},
     "output_type": "execute_result"
    }
   ],
   "source": [
    "data['schoolName'].unique()"
   ]
  },
  {
   "cell_type": "code",
   "execution_count": 36,
   "id": "109d5820-dd2d-408d-b55c-f49e40a2484b",
   "metadata": {},
   "outputs": [
    {
     "name": "stdout",
     "output_type": "stream",
     "text": [
      "<class 'pandas.core.frame.DataFrame'>\n",
      "Index: 200981 entries, 0 to 200993\n",
      "Data columns (total 9 columns):\n",
      " #   Column           Non-Null Count   Dtype  \n",
      "---  ------           --------------   -----  \n",
      " 0   gradeLevel       200981 non-null  int32  \n",
      " 1   classPeriod      200981 non-null  int32  \n",
      " 2   classType        200981 non-null  int32  \n",
      " 3   schoolName       200981 non-null  int32  \n",
      " 4   gradePercentage  200981 non-null  float64\n",
      " 5   avid             200981 non-null  object \n",
      " 6   sped             200981 non-null  object \n",
      " 7   migrant          200981 non-null  object \n",
      " 8   ell              200981 non-null  object \n",
      "dtypes: float64(1), int32(4), object(4)\n",
      "memory usage: 12.3+ MB\n"
     ]
    }
   ],
   "source": [
    "data.info()"
   ]
  },
  {
   "cell_type": "code",
   "execution_count": 37,
   "id": "472c2dee-8d3b-497c-a7cd-f0f072f6ee68",
   "metadata": {},
   "outputs": [],
   "source": [
    "data['avid'] = LE.fit_transform(data['avid'])"
   ]
  },
  {
   "cell_type": "code",
   "execution_count": 38,
   "id": "776a5f99-2fda-485e-a1de-6919b46104c3",
   "metadata": {},
   "outputs": [
    {
     "data": {
      "text/plain": [
       "array([1, 0])"
      ]
     },
     "execution_count": 38,
     "metadata": {},
     "output_type": "execute_result"
    }
   ],
   "source": [
    "data['avid'].unique()"
   ]
  },
  {
   "cell_type": "code",
   "execution_count": 39,
   "id": "d08aebb3-e865-4590-b6fa-699e37aab99a",
   "metadata": {},
   "outputs": [
    {
     "data": {
      "text/html": [
       "<div>\n",
       "<style scoped>\n",
       "    .dataframe tbody tr th:only-of-type {\n",
       "        vertical-align: middle;\n",
       "    }\n",
       "\n",
       "    .dataframe tbody tr th {\n",
       "        vertical-align: top;\n",
       "    }\n",
       "\n",
       "    .dataframe thead th {\n",
       "        text-align: right;\n",
       "    }\n",
       "</style>\n",
       "<table border=\"1\" class=\"dataframe\">\n",
       "  <thead>\n",
       "    <tr style=\"text-align: right;\">\n",
       "      <th></th>\n",
       "      <th>gradeLevel</th>\n",
       "      <th>classPeriod</th>\n",
       "      <th>classType</th>\n",
       "      <th>schoolName</th>\n",
       "      <th>gradePercentage</th>\n",
       "      <th>avid</th>\n",
       "      <th>sped</th>\n",
       "      <th>migrant</th>\n",
       "      <th>ell</th>\n",
       "    </tr>\n",
       "  </thead>\n",
       "  <tbody>\n",
       "    <tr>\n",
       "      <th>0</th>\n",
       "      <td>7</td>\n",
       "      <td>1</td>\n",
       "      <td>1</td>\n",
       "      <td>18</td>\n",
       "      <td>2000.0</td>\n",
       "      <td>1</td>\n",
       "      <td>N</td>\n",
       "      <td>N</td>\n",
       "      <td>N</td>\n",
       "    </tr>\n",
       "    <tr>\n",
       "      <th>1</th>\n",
       "      <td>7</td>\n",
       "      <td>1</td>\n",
       "      <td>1</td>\n",
       "      <td>18</td>\n",
       "      <td>2000.0</td>\n",
       "      <td>0</td>\n",
       "      <td>N</td>\n",
       "      <td>N</td>\n",
       "      <td>N</td>\n",
       "    </tr>\n",
       "    <tr>\n",
       "      <th>2</th>\n",
       "      <td>7</td>\n",
       "      <td>1</td>\n",
       "      <td>1</td>\n",
       "      <td>18</td>\n",
       "      <td>1950.0</td>\n",
       "      <td>0</td>\n",
       "      <td>N</td>\n",
       "      <td>N</td>\n",
       "      <td>N</td>\n",
       "    </tr>\n",
       "    <tr>\n",
       "      <th>3</th>\n",
       "      <td>7</td>\n",
       "      <td>1</td>\n",
       "      <td>1</td>\n",
       "      <td>18</td>\n",
       "      <td>1850.0</td>\n",
       "      <td>1</td>\n",
       "      <td>N</td>\n",
       "      <td>N</td>\n",
       "      <td>N</td>\n",
       "    </tr>\n",
       "    <tr>\n",
       "      <th>4</th>\n",
       "      <td>7</td>\n",
       "      <td>1</td>\n",
       "      <td>1</td>\n",
       "      <td>18</td>\n",
       "      <td>1500.0</td>\n",
       "      <td>0</td>\n",
       "      <td>N</td>\n",
       "      <td>Y</td>\n",
       "      <td>Y</td>\n",
       "    </tr>\n",
       "  </tbody>\n",
       "</table>\n",
       "</div>"
      ],
      "text/plain": [
       "   gradeLevel  classPeriod  classType  schoolName  gradePercentage  avid sped  \\\n",
       "0           7            1          1          18           2000.0     1    N   \n",
       "1           7            1          1          18           2000.0     0    N   \n",
       "2           7            1          1          18           1950.0     0    N   \n",
       "3           7            1          1          18           1850.0     1    N   \n",
       "4           7            1          1          18           1500.0     0    N   \n",
       "\n",
       "  migrant ell  \n",
       "0       N   N  \n",
       "1       N   N  \n",
       "2       N   N  \n",
       "3       N   N  \n",
       "4       Y   Y  "
      ]
     },
     "execution_count": 39,
     "metadata": {},
     "output_type": "execute_result"
    }
   ],
   "source": [
    "data.head()"
   ]
  },
  {
   "cell_type": "code",
   "execution_count": 40,
   "id": "548d9418-1110-4956-9124-0d71f451fd34",
   "metadata": {},
   "outputs": [],
   "source": [
    "data[\"sped\"] = LE.fit_transform(data[\"sped\"])"
   ]
  },
  {
   "cell_type": "code",
   "execution_count": 41,
   "id": "6a023ba2-3e29-443f-8a49-83d3e7c0eaac",
   "metadata": {},
   "outputs": [
    {
     "data": {
      "text/html": [
       "<div>\n",
       "<style scoped>\n",
       "    .dataframe tbody tr th:only-of-type {\n",
       "        vertical-align: middle;\n",
       "    }\n",
       "\n",
       "    .dataframe tbody tr th {\n",
       "        vertical-align: top;\n",
       "    }\n",
       "\n",
       "    .dataframe thead th {\n",
       "        text-align: right;\n",
       "    }\n",
       "</style>\n",
       "<table border=\"1\" class=\"dataframe\">\n",
       "  <thead>\n",
       "    <tr style=\"text-align: right;\">\n",
       "      <th></th>\n",
       "      <th>gradeLevel</th>\n",
       "      <th>classPeriod</th>\n",
       "      <th>classType</th>\n",
       "      <th>schoolName</th>\n",
       "      <th>gradePercentage</th>\n",
       "      <th>avid</th>\n",
       "      <th>sped</th>\n",
       "      <th>migrant</th>\n",
       "      <th>ell</th>\n",
       "    </tr>\n",
       "  </thead>\n",
       "  <tbody>\n",
       "    <tr>\n",
       "      <th>0</th>\n",
       "      <td>7</td>\n",
       "      <td>1</td>\n",
       "      <td>1</td>\n",
       "      <td>18</td>\n",
       "      <td>2000.0</td>\n",
       "      <td>1</td>\n",
       "      <td>0</td>\n",
       "      <td>N</td>\n",
       "      <td>N</td>\n",
       "    </tr>\n",
       "    <tr>\n",
       "      <th>1</th>\n",
       "      <td>7</td>\n",
       "      <td>1</td>\n",
       "      <td>1</td>\n",
       "      <td>18</td>\n",
       "      <td>2000.0</td>\n",
       "      <td>0</td>\n",
       "      <td>0</td>\n",
       "      <td>N</td>\n",
       "      <td>N</td>\n",
       "    </tr>\n",
       "    <tr>\n",
       "      <th>2</th>\n",
       "      <td>7</td>\n",
       "      <td>1</td>\n",
       "      <td>1</td>\n",
       "      <td>18</td>\n",
       "      <td>1950.0</td>\n",
       "      <td>0</td>\n",
       "      <td>0</td>\n",
       "      <td>N</td>\n",
       "      <td>N</td>\n",
       "    </tr>\n",
       "    <tr>\n",
       "      <th>3</th>\n",
       "      <td>7</td>\n",
       "      <td>1</td>\n",
       "      <td>1</td>\n",
       "      <td>18</td>\n",
       "      <td>1850.0</td>\n",
       "      <td>1</td>\n",
       "      <td>0</td>\n",
       "      <td>N</td>\n",
       "      <td>N</td>\n",
       "    </tr>\n",
       "    <tr>\n",
       "      <th>4</th>\n",
       "      <td>7</td>\n",
       "      <td>1</td>\n",
       "      <td>1</td>\n",
       "      <td>18</td>\n",
       "      <td>1500.0</td>\n",
       "      <td>0</td>\n",
       "      <td>0</td>\n",
       "      <td>Y</td>\n",
       "      <td>Y</td>\n",
       "    </tr>\n",
       "  </tbody>\n",
       "</table>\n",
       "</div>"
      ],
      "text/plain": [
       "   gradeLevel  classPeriod  classType  schoolName  gradePercentage  avid  \\\n",
       "0           7            1          1          18           2000.0     1   \n",
       "1           7            1          1          18           2000.0     0   \n",
       "2           7            1          1          18           1950.0     0   \n",
       "3           7            1          1          18           1850.0     1   \n",
       "4           7            1          1          18           1500.0     0   \n",
       "\n",
       "   sped migrant ell  \n",
       "0     0       N   N  \n",
       "1     0       N   N  \n",
       "2     0       N   N  \n",
       "3     0       N   N  \n",
       "4     0       Y   Y  "
      ]
     },
     "execution_count": 41,
     "metadata": {},
     "output_type": "execute_result"
    }
   ],
   "source": [
    "data.head()"
   ]
  },
  {
   "cell_type": "code",
   "execution_count": 42,
   "id": "b0875ca3-7cfd-4499-9f1b-9e0c37fe3884",
   "metadata": {},
   "outputs": [],
   "source": [
    "data[\"migrant\"] = LE.fit_transform(data[\"migrant\"])"
   ]
  },
  {
   "cell_type": "code",
   "execution_count": 43,
   "id": "88694d75-6542-40c2-9503-de3e81b0f6d2",
   "metadata": {},
   "outputs": [
    {
     "data": {
      "text/html": [
       "<div>\n",
       "<style scoped>\n",
       "    .dataframe tbody tr th:only-of-type {\n",
       "        vertical-align: middle;\n",
       "    }\n",
       "\n",
       "    .dataframe tbody tr th {\n",
       "        vertical-align: top;\n",
       "    }\n",
       "\n",
       "    .dataframe thead th {\n",
       "        text-align: right;\n",
       "    }\n",
       "</style>\n",
       "<table border=\"1\" class=\"dataframe\">\n",
       "  <thead>\n",
       "    <tr style=\"text-align: right;\">\n",
       "      <th></th>\n",
       "      <th>gradeLevel</th>\n",
       "      <th>classPeriod</th>\n",
       "      <th>classType</th>\n",
       "      <th>schoolName</th>\n",
       "      <th>gradePercentage</th>\n",
       "      <th>avid</th>\n",
       "      <th>sped</th>\n",
       "      <th>migrant</th>\n",
       "      <th>ell</th>\n",
       "    </tr>\n",
       "  </thead>\n",
       "  <tbody>\n",
       "    <tr>\n",
       "      <th>0</th>\n",
       "      <td>7</td>\n",
       "      <td>1</td>\n",
       "      <td>1</td>\n",
       "      <td>18</td>\n",
       "      <td>2000.0</td>\n",
       "      <td>1</td>\n",
       "      <td>0</td>\n",
       "      <td>0</td>\n",
       "      <td>N</td>\n",
       "    </tr>\n",
       "    <tr>\n",
       "      <th>1</th>\n",
       "      <td>7</td>\n",
       "      <td>1</td>\n",
       "      <td>1</td>\n",
       "      <td>18</td>\n",
       "      <td>2000.0</td>\n",
       "      <td>0</td>\n",
       "      <td>0</td>\n",
       "      <td>0</td>\n",
       "      <td>N</td>\n",
       "    </tr>\n",
       "    <tr>\n",
       "      <th>2</th>\n",
       "      <td>7</td>\n",
       "      <td>1</td>\n",
       "      <td>1</td>\n",
       "      <td>18</td>\n",
       "      <td>1950.0</td>\n",
       "      <td>0</td>\n",
       "      <td>0</td>\n",
       "      <td>0</td>\n",
       "      <td>N</td>\n",
       "    </tr>\n",
       "    <tr>\n",
       "      <th>3</th>\n",
       "      <td>7</td>\n",
       "      <td>1</td>\n",
       "      <td>1</td>\n",
       "      <td>18</td>\n",
       "      <td>1850.0</td>\n",
       "      <td>1</td>\n",
       "      <td>0</td>\n",
       "      <td>0</td>\n",
       "      <td>N</td>\n",
       "    </tr>\n",
       "    <tr>\n",
       "      <th>4</th>\n",
       "      <td>7</td>\n",
       "      <td>1</td>\n",
       "      <td>1</td>\n",
       "      <td>18</td>\n",
       "      <td>1500.0</td>\n",
       "      <td>0</td>\n",
       "      <td>0</td>\n",
       "      <td>1</td>\n",
       "      <td>Y</td>\n",
       "    </tr>\n",
       "  </tbody>\n",
       "</table>\n",
       "</div>"
      ],
      "text/plain": [
       "   gradeLevel  classPeriod  classType  schoolName  gradePercentage  avid  \\\n",
       "0           7            1          1          18           2000.0     1   \n",
       "1           7            1          1          18           2000.0     0   \n",
       "2           7            1          1          18           1950.0     0   \n",
       "3           7            1          1          18           1850.0     1   \n",
       "4           7            1          1          18           1500.0     0   \n",
       "\n",
       "   sped  migrant ell  \n",
       "0     0        0   N  \n",
       "1     0        0   N  \n",
       "2     0        0   N  \n",
       "3     0        0   N  \n",
       "4     0        1   Y  "
      ]
     },
     "execution_count": 43,
     "metadata": {},
     "output_type": "execute_result"
    }
   ],
   "source": [
    "data.head()"
   ]
  },
  {
   "cell_type": "code",
   "execution_count": 44,
   "id": "f6bad13b-d7b9-4fe7-ab84-b90fbd328ff1",
   "metadata": {},
   "outputs": [],
   "source": [
    "data[\"ell\"] = LE.fit_transform(data[\"ell\"])"
   ]
  },
  {
   "cell_type": "code",
   "execution_count": 45,
   "id": "4bfc58aa-430a-4f94-a2f8-9f3c94bec300",
   "metadata": {},
   "outputs": [
    {
     "data": {
      "text/html": [
       "<div>\n",
       "<style scoped>\n",
       "    .dataframe tbody tr th:only-of-type {\n",
       "        vertical-align: middle;\n",
       "    }\n",
       "\n",
       "    .dataframe tbody tr th {\n",
       "        vertical-align: top;\n",
       "    }\n",
       "\n",
       "    .dataframe thead th {\n",
       "        text-align: right;\n",
       "    }\n",
       "</style>\n",
       "<table border=\"1\" class=\"dataframe\">\n",
       "  <thead>\n",
       "    <tr style=\"text-align: right;\">\n",
       "      <th></th>\n",
       "      <th>gradeLevel</th>\n",
       "      <th>classPeriod</th>\n",
       "      <th>classType</th>\n",
       "      <th>schoolName</th>\n",
       "      <th>gradePercentage</th>\n",
       "      <th>avid</th>\n",
       "      <th>sped</th>\n",
       "      <th>migrant</th>\n",
       "      <th>ell</th>\n",
       "    </tr>\n",
       "  </thead>\n",
       "  <tbody>\n",
       "    <tr>\n",
       "      <th>0</th>\n",
       "      <td>7</td>\n",
       "      <td>1</td>\n",
       "      <td>1</td>\n",
       "      <td>18</td>\n",
       "      <td>2000.0</td>\n",
       "      <td>1</td>\n",
       "      <td>0</td>\n",
       "      <td>0</td>\n",
       "      <td>0</td>\n",
       "    </tr>\n",
       "    <tr>\n",
       "      <th>1</th>\n",
       "      <td>7</td>\n",
       "      <td>1</td>\n",
       "      <td>1</td>\n",
       "      <td>18</td>\n",
       "      <td>2000.0</td>\n",
       "      <td>0</td>\n",
       "      <td>0</td>\n",
       "      <td>0</td>\n",
       "      <td>0</td>\n",
       "    </tr>\n",
       "    <tr>\n",
       "      <th>2</th>\n",
       "      <td>7</td>\n",
       "      <td>1</td>\n",
       "      <td>1</td>\n",
       "      <td>18</td>\n",
       "      <td>1950.0</td>\n",
       "      <td>0</td>\n",
       "      <td>0</td>\n",
       "      <td>0</td>\n",
       "      <td>0</td>\n",
       "    </tr>\n",
       "    <tr>\n",
       "      <th>3</th>\n",
       "      <td>7</td>\n",
       "      <td>1</td>\n",
       "      <td>1</td>\n",
       "      <td>18</td>\n",
       "      <td>1850.0</td>\n",
       "      <td>1</td>\n",
       "      <td>0</td>\n",
       "      <td>0</td>\n",
       "      <td>0</td>\n",
       "    </tr>\n",
       "    <tr>\n",
       "      <th>4</th>\n",
       "      <td>7</td>\n",
       "      <td>1</td>\n",
       "      <td>1</td>\n",
       "      <td>18</td>\n",
       "      <td>1500.0</td>\n",
       "      <td>0</td>\n",
       "      <td>0</td>\n",
       "      <td>1</td>\n",
       "      <td>1</td>\n",
       "    </tr>\n",
       "  </tbody>\n",
       "</table>\n",
       "</div>"
      ],
      "text/plain": [
       "   gradeLevel  classPeriod  classType  schoolName  gradePercentage  avid  \\\n",
       "0           7            1          1          18           2000.0     1   \n",
       "1           7            1          1          18           2000.0     0   \n",
       "2           7            1          1          18           1950.0     0   \n",
       "3           7            1          1          18           1850.0     1   \n",
       "4           7            1          1          18           1500.0     0   \n",
       "\n",
       "   sped  migrant  ell  \n",
       "0     0        0    0  \n",
       "1     0        0    0  \n",
       "2     0        0    0  \n",
       "3     0        0    0  \n",
       "4     0        1    1  "
      ]
     },
     "execution_count": 45,
     "metadata": {},
     "output_type": "execute_result"
    }
   ],
   "source": [
    "data.head()"
   ]
  },
  {
   "cell_type": "code",
   "execution_count": 46,
   "id": "fb1b8e5b-9730-41ca-88d7-22087ecfc7fa",
   "metadata": {},
   "outputs": [
    {
     "name": "stdout",
     "output_type": "stream",
     "text": [
      "<class 'pandas.core.frame.DataFrame'>\n",
      "Index: 200981 entries, 0 to 200993\n",
      "Data columns (total 9 columns):\n",
      " #   Column           Non-Null Count   Dtype  \n",
      "---  ------           --------------   -----  \n",
      " 0   gradeLevel       200981 non-null  int32  \n",
      " 1   classPeriod      200981 non-null  int32  \n",
      " 2   classType        200981 non-null  int32  \n",
      " 3   schoolName       200981 non-null  int32  \n",
      " 4   gradePercentage  200981 non-null  float64\n",
      " 5   avid             200981 non-null  int32  \n",
      " 6   sped             200981 non-null  int32  \n",
      " 7   migrant          200981 non-null  int32  \n",
      " 8   ell              200981 non-null  int32  \n",
      "dtypes: float64(1), int32(8)\n",
      "memory usage: 9.2 MB\n"
     ]
    }
   ],
   "source": [
    "data.info()"
   ]
  },
  {
   "cell_type": "code",
   "execution_count": 47,
   "id": "51867615-d348-49be-acab-679ab3f4c198",
   "metadata": {},
   "outputs": [
    {
     "data": {
      "text/plain": [
       "array([2.00e+03, 1.95e+03, 1.85e+03, ..., 2.00e-01, 1.00e-01, 0.00e+00])"
      ]
     },
     "execution_count": 47,
     "metadata": {},
     "output_type": "execute_result"
    }
   ],
   "source": [
    "data[\"gradePercentage\"].unique()"
   ]
  },
  {
   "cell_type": "code",
   "execution_count": 48,
   "id": "af7fdf6b-a2d5-40ac-bae4-37963a9f0679",
   "metadata": {},
   "outputs": [
    {
     "data": {
      "text/plain": [
       "3253"
      ]
     },
     "execution_count": 48,
     "metadata": {},
     "output_type": "execute_result"
    }
   ],
   "source": [
    "data[data[\"gradePercentage\"]>100].value_counts().sum()"
   ]
  },
  {
   "cell_type": "code",
   "execution_count": 49,
   "id": "999bb994-dc2c-41f8-a8b5-afc6e1d7ae4c",
   "metadata": {},
   "outputs": [],
   "source": [
    "GP_rowsdrop = data[data[\"gradePercentage\"]>100].index"
   ]
  },
  {
   "cell_type": "code",
   "execution_count": 50,
   "id": "5f9f5e88-a414-4a10-8956-def677307b0e",
   "metadata": {},
   "outputs": [],
   "source": [
    "data = data.drop(GP_rowsdrop)"
   ]
  },
  {
   "cell_type": "code",
   "execution_count": 51,
   "id": "9e150e52-e94c-419e-b895-559320c1d1d5",
   "metadata": {},
   "outputs": [
    {
     "data": {
      "text/plain": [
       "0"
      ]
     },
     "execution_count": 51,
     "metadata": {},
     "output_type": "execute_result"
    }
   ],
   "source": [
    "data[data[\"gradePercentage\"]>100].value_counts().sum()"
   ]
  },
  {
   "cell_type": "code",
   "execution_count": 52,
   "id": "198e3c0a-dbce-4b57-abb6-08e35486ec67",
   "metadata": {},
   "outputs": [
    {
     "name": "stdout",
     "output_type": "stream",
     "text": [
      "<class 'pandas.core.frame.DataFrame'>\n",
      "Index: 197728 entries, 3253 to 200993\n",
      "Data columns (total 9 columns):\n",
      " #   Column           Non-Null Count   Dtype  \n",
      "---  ------           --------------   -----  \n",
      " 0   gradeLevel       197728 non-null  int32  \n",
      " 1   classPeriod      197728 non-null  int32  \n",
      " 2   classType        197728 non-null  int32  \n",
      " 3   schoolName       197728 non-null  int32  \n",
      " 4   gradePercentage  197728 non-null  float64\n",
      " 5   avid             197728 non-null  int32  \n",
      " 6   sped             197728 non-null  int32  \n",
      " 7   migrant          197728 non-null  int32  \n",
      " 8   ell              197728 non-null  int32  \n",
      "dtypes: float64(1), int32(8)\n",
      "memory usage: 9.1 MB\n"
     ]
    }
   ],
   "source": [
    "data.info()"
   ]
  },
  {
   "cell_type": "code",
   "execution_count": 53,
   "id": "7ec470a5-58ab-47b6-86f1-63a4c0c4d9ad",
   "metadata": {},
   "outputs": [
    {
     "data": {
      "text/plain": [
       "gradeLevel         0\n",
       "classPeriod        0\n",
       "classType          0\n",
       "schoolName         0\n",
       "gradePercentage    0\n",
       "avid               0\n",
       "sped               0\n",
       "migrant            0\n",
       "ell                0\n",
       "dtype: int64"
      ]
     },
     "execution_count": 53,
     "metadata": {},
     "output_type": "execute_result"
    }
   ],
   "source": [
    "data.isna().sum()"
   ]
  },
  {
   "cell_type": "code",
   "execution_count": 54,
   "id": "ddbce183-c45d-43ea-b381-15993613980f",
   "metadata": {},
   "outputs": [
    {
     "data": {
      "text/html": [
       "<div>\n",
       "<style scoped>\n",
       "    .dataframe tbody tr th:only-of-type {\n",
       "        vertical-align: middle;\n",
       "    }\n",
       "\n",
       "    .dataframe tbody tr th {\n",
       "        vertical-align: top;\n",
       "    }\n",
       "\n",
       "    .dataframe thead th {\n",
       "        text-align: right;\n",
       "    }\n",
       "</style>\n",
       "<table border=\"1\" class=\"dataframe\">\n",
       "  <thead>\n",
       "    <tr style=\"text-align: right;\">\n",
       "      <th></th>\n",
       "      <th>gradeLevel</th>\n",
       "      <th>classPeriod</th>\n",
       "      <th>classType</th>\n",
       "      <th>schoolName</th>\n",
       "      <th>avid</th>\n",
       "      <th>sped</th>\n",
       "      <th>migrant</th>\n",
       "      <th>ell</th>\n",
       "    </tr>\n",
       "  </thead>\n",
       "  <tbody>\n",
       "    <tr>\n",
       "      <th>3253</th>\n",
       "      <td>8</td>\n",
       "      <td>0</td>\n",
       "      <td>5</td>\n",
       "      <td>10</td>\n",
       "      <td>1</td>\n",
       "      <td>0</td>\n",
       "      <td>0</td>\n",
       "      <td>0</td>\n",
       "    </tr>\n",
       "    <tr>\n",
       "      <th>3254</th>\n",
       "      <td>8</td>\n",
       "      <td>0</td>\n",
       "      <td>5</td>\n",
       "      <td>0</td>\n",
       "      <td>1</td>\n",
       "      <td>1</td>\n",
       "      <td>0</td>\n",
       "      <td>0</td>\n",
       "    </tr>\n",
       "    <tr>\n",
       "      <th>3255</th>\n",
       "      <td>8</td>\n",
       "      <td>3</td>\n",
       "      <td>6</td>\n",
       "      <td>0</td>\n",
       "      <td>0</td>\n",
       "      <td>0</td>\n",
       "      <td>0</td>\n",
       "      <td>0</td>\n",
       "    </tr>\n",
       "    <tr>\n",
       "      <th>3256</th>\n",
       "      <td>8</td>\n",
       "      <td>2</td>\n",
       "      <td>6</td>\n",
       "      <td>18</td>\n",
       "      <td>1</td>\n",
       "      <td>1</td>\n",
       "      <td>0</td>\n",
       "      <td>0</td>\n",
       "    </tr>\n",
       "    <tr>\n",
       "      <th>3257</th>\n",
       "      <td>8</td>\n",
       "      <td>4</td>\n",
       "      <td>0</td>\n",
       "      <td>14</td>\n",
       "      <td>0</td>\n",
       "      <td>0</td>\n",
       "      <td>0</td>\n",
       "      <td>0</td>\n",
       "    </tr>\n",
       "    <tr>\n",
       "      <th>...</th>\n",
       "      <td>...</td>\n",
       "      <td>...</td>\n",
       "      <td>...</td>\n",
       "      <td>...</td>\n",
       "      <td>...</td>\n",
       "      <td>...</td>\n",
       "      <td>...</td>\n",
       "      <td>...</td>\n",
       "    </tr>\n",
       "    <tr>\n",
       "      <th>200989</th>\n",
       "      <td>6</td>\n",
       "      <td>1</td>\n",
       "      <td>1</td>\n",
       "      <td>18</td>\n",
       "      <td>1</td>\n",
       "      <td>0</td>\n",
       "      <td>0</td>\n",
       "      <td>1</td>\n",
       "    </tr>\n",
       "    <tr>\n",
       "      <th>200990</th>\n",
       "      <td>7</td>\n",
       "      <td>3</td>\n",
       "      <td>2</td>\n",
       "      <td>0</td>\n",
       "      <td>1</td>\n",
       "      <td>0</td>\n",
       "      <td>0</td>\n",
       "      <td>0</td>\n",
       "    </tr>\n",
       "    <tr>\n",
       "      <th>200991</th>\n",
       "      <td>5</td>\n",
       "      <td>7</td>\n",
       "      <td>9</td>\n",
       "      <td>6</td>\n",
       "      <td>1</td>\n",
       "      <td>0</td>\n",
       "      <td>0</td>\n",
       "      <td>0</td>\n",
       "    </tr>\n",
       "    <tr>\n",
       "      <th>200992</th>\n",
       "      <td>4</td>\n",
       "      <td>8</td>\n",
       "      <td>8</td>\n",
       "      <td>8</td>\n",
       "      <td>0</td>\n",
       "      <td>0</td>\n",
       "      <td>1</td>\n",
       "      <td>1</td>\n",
       "    </tr>\n",
       "    <tr>\n",
       "      <th>200993</th>\n",
       "      <td>7</td>\n",
       "      <td>2</td>\n",
       "      <td>8</td>\n",
       "      <td>3</td>\n",
       "      <td>0</td>\n",
       "      <td>0</td>\n",
       "      <td>0</td>\n",
       "      <td>1</td>\n",
       "    </tr>\n",
       "  </tbody>\n",
       "</table>\n",
       "<p>197728 rows × 8 columns</p>\n",
       "</div>"
      ],
      "text/plain": [
       "        gradeLevel  classPeriod  classType  schoolName  avid  sped  migrant  \\\n",
       "3253             8            0          5          10     1     0        0   \n",
       "3254             8            0          5           0     1     1        0   \n",
       "3255             8            3          6           0     0     0        0   \n",
       "3256             8            2          6          18     1     1        0   \n",
       "3257             8            4          0          14     0     0        0   \n",
       "...            ...          ...        ...         ...   ...   ...      ...   \n",
       "200989           6            1          1          18     1     0        0   \n",
       "200990           7            3          2           0     1     0        0   \n",
       "200991           5            7          9           6     1     0        0   \n",
       "200992           4            8          8           8     0     0        1   \n",
       "200993           7            2          8           3     0     0        0   \n",
       "\n",
       "        ell  \n",
       "3253      0  \n",
       "3254      0  \n",
       "3255      0  \n",
       "3256      0  \n",
       "3257      0  \n",
       "...     ...  \n",
       "200989    1  \n",
       "200990    0  \n",
       "200991    0  \n",
       "200992    1  \n",
       "200993    1  \n",
       "\n",
       "[197728 rows x 8 columns]"
      ]
     },
     "execution_count": 54,
     "metadata": {},
     "output_type": "execute_result"
    }
   ],
   "source": [
    "X = data.drop(\"gradePercentage\",axis=1)\n",
    "X"
   ]
  },
  {
   "cell_type": "code",
   "execution_count": 55,
   "id": "c07b0840-e61b-4a32-a656-3d6d56278e0a",
   "metadata": {},
   "outputs": [
    {
     "data": {
      "text/plain": [
       "3253      100.0\n",
       "3254      100.0\n",
       "3255      100.0\n",
       "3256      100.0\n",
       "3257      100.0\n",
       "          ...  \n",
       "200989      0.0\n",
       "200990      0.0\n",
       "200991      0.0\n",
       "200992      0.0\n",
       "200993      0.0\n",
       "Name: gradePercentage, Length: 197728, dtype: float64"
      ]
     },
     "execution_count": 55,
     "metadata": {},
     "output_type": "execute_result"
    }
   ],
   "source": [
    "Y = data[\"gradePercentage\"]\n",
    "Y"
   ]
  },
  {
   "cell_type": "code",
   "execution_count": 56,
   "id": "b9e5ce3f-0709-48f4-a300-bd241303c775",
   "metadata": {},
   "outputs": [],
   "source": [
    "from sklearn.model_selection import train_test_split\n",
    "X_train,X_test,Y_train,Y_test = train_test_split(X,Y,random_state=0,test_size=0.3)"
   ]
  },
  {
   "cell_type": "code",
   "execution_count": 57,
   "id": "35aee6ae-5f3b-488d-9285-f6460c10f580",
   "metadata": {},
   "outputs": [],
   "source": [
    "from sklearn.preprocessing import StandardScaler\n",
    "scaler = StandardScaler()"
   ]
  },
  {
   "cell_type": "code",
   "execution_count": 58,
   "id": "d702826f-a29a-4bda-a067-a4ddb85239cd",
   "metadata": {},
   "outputs": [],
   "source": [
    "X_train = scaler.fit_transform(X_train)\n",
    "X_test = scaler.fit_transform(X_test)"
   ]
  },
  {
   "cell_type": "code",
   "execution_count": 59,
   "id": "e7f861d4-fed2-46a4-bc6c-0e8ae3e819c2",
   "metadata": {},
   "outputs": [],
   "source": [
    "from sklearn.linear_model import LinearRegression\n",
    "lr = LinearRegression()"
   ]
  },
  {
   "cell_type": "code",
   "execution_count": 60,
   "id": "3d48d8b0-687c-4cf8-8597-5a5df76efdbf",
   "metadata": {},
   "outputs": [
    {
     "data": {
      "text/html": [
       "<style>#sk-container-id-1 {color: black;background-color: white;}#sk-container-id-1 pre{padding: 0;}#sk-container-id-1 div.sk-toggleable {background-color: white;}#sk-container-id-1 label.sk-toggleable__label {cursor: pointer;display: block;width: 100%;margin-bottom: 0;padding: 0.3em;box-sizing: border-box;text-align: center;}#sk-container-id-1 label.sk-toggleable__label-arrow:before {content: \"▸\";float: left;margin-right: 0.25em;color: #696969;}#sk-container-id-1 label.sk-toggleable__label-arrow:hover:before {color: black;}#sk-container-id-1 div.sk-estimator:hover label.sk-toggleable__label-arrow:before {color: black;}#sk-container-id-1 div.sk-toggleable__content {max-height: 0;max-width: 0;overflow: hidden;text-align: left;background-color: #f0f8ff;}#sk-container-id-1 div.sk-toggleable__content pre {margin: 0.2em;color: black;border-radius: 0.25em;background-color: #f0f8ff;}#sk-container-id-1 input.sk-toggleable__control:checked~div.sk-toggleable__content {max-height: 200px;max-width: 100%;overflow: auto;}#sk-container-id-1 input.sk-toggleable__control:checked~label.sk-toggleable__label-arrow:before {content: \"▾\";}#sk-container-id-1 div.sk-estimator input.sk-toggleable__control:checked~label.sk-toggleable__label {background-color: #d4ebff;}#sk-container-id-1 div.sk-label input.sk-toggleable__control:checked~label.sk-toggleable__label {background-color: #d4ebff;}#sk-container-id-1 input.sk-hidden--visually {border: 0;clip: rect(1px 1px 1px 1px);clip: rect(1px, 1px, 1px, 1px);height: 1px;margin: -1px;overflow: hidden;padding: 0;position: absolute;width: 1px;}#sk-container-id-1 div.sk-estimator {font-family: monospace;background-color: #f0f8ff;border: 1px dotted black;border-radius: 0.25em;box-sizing: border-box;margin-bottom: 0.5em;}#sk-container-id-1 div.sk-estimator:hover {background-color: #d4ebff;}#sk-container-id-1 div.sk-parallel-item::after {content: \"\";width: 100%;border-bottom: 1px solid gray;flex-grow: 1;}#sk-container-id-1 div.sk-label:hover label.sk-toggleable__label {background-color: #d4ebff;}#sk-container-id-1 div.sk-serial::before {content: \"\";position: absolute;border-left: 1px solid gray;box-sizing: border-box;top: 0;bottom: 0;left: 50%;z-index: 0;}#sk-container-id-1 div.sk-serial {display: flex;flex-direction: column;align-items: center;background-color: white;padding-right: 0.2em;padding-left: 0.2em;position: relative;}#sk-container-id-1 div.sk-item {position: relative;z-index: 1;}#sk-container-id-1 div.sk-parallel {display: flex;align-items: stretch;justify-content: center;background-color: white;position: relative;}#sk-container-id-1 div.sk-item::before, #sk-container-id-1 div.sk-parallel-item::before {content: \"\";position: absolute;border-left: 1px solid gray;box-sizing: border-box;top: 0;bottom: 0;left: 50%;z-index: -1;}#sk-container-id-1 div.sk-parallel-item {display: flex;flex-direction: column;z-index: 1;position: relative;background-color: white;}#sk-container-id-1 div.sk-parallel-item:first-child::after {align-self: flex-end;width: 50%;}#sk-container-id-1 div.sk-parallel-item:last-child::after {align-self: flex-start;width: 50%;}#sk-container-id-1 div.sk-parallel-item:only-child::after {width: 0;}#sk-container-id-1 div.sk-dashed-wrapped {border: 1px dashed gray;margin: 0 0.4em 0.5em 0.4em;box-sizing: border-box;padding-bottom: 0.4em;background-color: white;}#sk-container-id-1 div.sk-label label {font-family: monospace;font-weight: bold;display: inline-block;line-height: 1.2em;}#sk-container-id-1 div.sk-label-container {text-align: center;}#sk-container-id-1 div.sk-container {/* jupyter's `normalize.less` sets `[hidden] { display: none; }` but bootstrap.min.css set `[hidden] { display: none !important; }` so we also need the `!important` here to be able to override the default hidden behavior on the sphinx rendered scikit-learn.org. See: https://github.com/scikit-learn/scikit-learn/issues/21755 */display: inline-block !important;position: relative;}#sk-container-id-1 div.sk-text-repr-fallback {display: none;}</style><div id=\"sk-container-id-1\" class=\"sk-top-container\"><div class=\"sk-text-repr-fallback\"><pre>LinearRegression()</pre><b>In a Jupyter environment, please rerun this cell to show the HTML representation or trust the notebook. <br />On GitHub, the HTML representation is unable to render, please try loading this page with nbviewer.org.</b></div><div class=\"sk-container\" hidden><div class=\"sk-item\"><div class=\"sk-estimator sk-toggleable\"><input class=\"sk-toggleable__control sk-hidden--visually\" id=\"sk-estimator-id-1\" type=\"checkbox\" checked><label for=\"sk-estimator-id-1\" class=\"sk-toggleable__label sk-toggleable__label-arrow\">LinearRegression</label><div class=\"sk-toggleable__content\"><pre>LinearRegression()</pre></div></div></div></div></div>"
      ],
      "text/plain": [
       "LinearRegression()"
      ]
     },
     "execution_count": 60,
     "metadata": {},
     "output_type": "execute_result"
    }
   ],
   "source": [
    "lr.fit(X_train,Y_train)"
   ]
  },
  {
   "cell_type": "code",
   "execution_count": 61,
   "id": "fad99dde-4b1e-4830-862c-3e1c0ca24c48",
   "metadata": {},
   "outputs": [
    {
     "data": {
      "text/plain": [
       "array([-2.62031308, -0.82186707,  0.90137001, -0.12970817,  3.68304039,\n",
       "       -0.49823189, -1.39654536, -0.73042787])"
      ]
     },
     "execution_count": 61,
     "metadata": {},
     "output_type": "execute_result"
    }
   ],
   "source": [
    "lr.coef_"
   ]
  },
  {
   "cell_type": "code",
   "execution_count": 62,
   "id": "df0543e7-1da1-4d9d-bca0-fa120f0f707e",
   "metadata": {},
   "outputs": [
    {
     "data": {
      "text/plain": [
       "80.72681566950126"
      ]
     },
     "execution_count": 62,
     "metadata": {},
     "output_type": "execute_result"
    }
   ],
   "source": [
    "lr.intercept_"
   ]
  },
  {
   "cell_type": "code",
   "execution_count": 63,
   "id": "f19487bd-225c-4349-9507-e73714ca7ab9",
   "metadata": {},
   "outputs": [],
   "source": [
    "Y_train_pred = lr.predict(X_train)"
   ]
  },
  {
   "cell_type": "code",
   "execution_count": 64,
   "id": "60899ea2-9ad0-4aab-b9d6-0e00e083e25a",
   "metadata": {},
   "outputs": [
    {
     "data": {
      "text/html": [
       "<div>\n",
       "<style scoped>\n",
       "    .dataframe tbody tr th:only-of-type {\n",
       "        vertical-align: middle;\n",
       "    }\n",
       "\n",
       "    .dataframe tbody tr th {\n",
       "        vertical-align: top;\n",
       "    }\n",
       "\n",
       "    .dataframe thead th {\n",
       "        text-align: right;\n",
       "    }\n",
       "</style>\n",
       "<table border=\"1\" class=\"dataframe\">\n",
       "  <thead>\n",
       "    <tr style=\"text-align: right;\">\n",
       "      <th></th>\n",
       "      <th>Original_Y_training</th>\n",
       "      <th>Predicted Y_train</th>\n",
       "    </tr>\n",
       "  </thead>\n",
       "  <tbody>\n",
       "    <tr>\n",
       "      <th>145170</th>\n",
       "      <td>75.0</td>\n",
       "      <td>77.302355</td>\n",
       "    </tr>\n",
       "    <tr>\n",
       "      <th>81019</th>\n",
       "      <td>92.5</td>\n",
       "      <td>75.841468</td>\n",
       "    </tr>\n",
       "    <tr>\n",
       "      <th>70147</th>\n",
       "      <td>94.7</td>\n",
       "      <td>85.474321</td>\n",
       "    </tr>\n",
       "    <tr>\n",
       "      <th>125431</th>\n",
       "      <td>81.9</td>\n",
       "      <td>82.872355</td>\n",
       "    </tr>\n",
       "    <tr>\n",
       "      <th>131391</th>\n",
       "      <td>80.0</td>\n",
       "      <td>79.391178</td>\n",
       "    </tr>\n",
       "    <tr>\n",
       "      <th>...</th>\n",
       "      <td>...</td>\n",
       "      <td>...</td>\n",
       "    </tr>\n",
       "    <tr>\n",
       "      <th>155575</th>\n",
       "      <td>70.6</td>\n",
       "      <td>89.616237</td>\n",
       "    </tr>\n",
       "    <tr>\n",
       "      <th>180225</th>\n",
       "      <td>51.4</td>\n",
       "      <td>79.136998</td>\n",
       "    </tr>\n",
       "    <tr>\n",
       "      <th>121208</th>\n",
       "      <td>83.1</td>\n",
       "      <td>73.115588</td>\n",
       "    </tr>\n",
       "    <tr>\n",
       "      <th>176947</th>\n",
       "      <td>55.3</td>\n",
       "      <td>82.167260</td>\n",
       "    </tr>\n",
       "    <tr>\n",
       "      <th>46820</th>\n",
       "      <td>98.5</td>\n",
       "      <td>79.216361</td>\n",
       "    </tr>\n",
       "  </tbody>\n",
       "</table>\n",
       "<p>138409 rows × 2 columns</p>\n",
       "</div>"
      ],
      "text/plain": [
       "        Original_Y_training  Predicted Y_train\n",
       "145170                 75.0          77.302355\n",
       "81019                  92.5          75.841468\n",
       "70147                  94.7          85.474321\n",
       "125431                 81.9          82.872355\n",
       "131391                 80.0          79.391178\n",
       "...                     ...                ...\n",
       "155575                 70.6          89.616237\n",
       "180225                 51.4          79.136998\n",
       "121208                 83.1          73.115588\n",
       "176947                 55.3          82.167260\n",
       "46820                  98.5          79.216361\n",
       "\n",
       "[138409 rows x 2 columns]"
      ]
     },
     "execution_count": 64,
     "metadata": {},
     "output_type": "execute_result"
    }
   ],
   "source": [
    "pd.DataFrame({'Original_Y_training':Y_train,\n",
    "               'Predicted Y_train': Y_train_pred})"
   ]
  },
  {
   "cell_type": "code",
   "execution_count": 65,
   "id": "9be56f19-cffa-44b6-8883-91973cb7192e",
   "metadata": {},
   "outputs": [],
   "source": [
    "from sklearn.metrics import mean_squared_error, r2_score"
   ]
  },
  {
   "cell_type": "code",
   "execution_count": 66,
   "id": "ce44eb30-25c8-461a-8e07-4abd197307a1",
   "metadata": {},
   "outputs": [
    {
     "data": {
      "text/plain": [
       "470.2255746947263"
      ]
     },
     "execution_count": 66,
     "metadata": {},
     "output_type": "execute_result"
    }
   ],
   "source": [
    "mean_squared_error(Y_train,Y_train_pred)"
   ]
  },
  {
   "cell_type": "code",
   "execution_count": 67,
   "id": "a5296091-58bb-4b61-b1f1-3d6bb9313aa5",
   "metadata": {},
   "outputs": [
    {
     "data": {
      "text/plain": [
       "0.055054720770264076"
      ]
     },
     "execution_count": 67,
     "metadata": {},
     "output_type": "execute_result"
    }
   ],
   "source": [
    "r2_score(Y_train,Y_train_pred)"
   ]
  },
  {
   "cell_type": "code",
   "execution_count": 68,
   "id": "54a20fa6-d999-43f8-86b6-34dcec9f6cff",
   "metadata": {},
   "outputs": [],
   "source": [
    "Y_test_pred = lr.predict(X_test)"
   ]
  },
  {
   "cell_type": "code",
   "execution_count": 69,
   "id": "afa741e2-8839-4850-b353-3cf6d273b43d",
   "metadata": {},
   "outputs": [
    {
     "data": {
      "text/html": [
       "<div>\n",
       "<style scoped>\n",
       "    .dataframe tbody tr th:only-of-type {\n",
       "        vertical-align: middle;\n",
       "    }\n",
       "\n",
       "    .dataframe tbody tr th {\n",
       "        vertical-align: top;\n",
       "    }\n",
       "\n",
       "    .dataframe thead th {\n",
       "        text-align: right;\n",
       "    }\n",
       "</style>\n",
       "<table border=\"1\" class=\"dataframe\">\n",
       "  <thead>\n",
       "    <tr style=\"text-align: right;\">\n",
       "      <th></th>\n",
       "      <th>Original_Y_test</th>\n",
       "      <th>Predicted Y_test</th>\n",
       "    </tr>\n",
       "  </thead>\n",
       "  <tbody>\n",
       "    <tr>\n",
       "      <th>58304</th>\n",
       "      <td>96.7</td>\n",
       "      <td>76.386741</td>\n",
       "    </tr>\n",
       "    <tr>\n",
       "      <th>55933</th>\n",
       "      <td>97.0</td>\n",
       "      <td>77.464775</td>\n",
       "    </tr>\n",
       "    <tr>\n",
       "      <th>139514</th>\n",
       "      <td>77.3</td>\n",
       "      <td>76.140192</td>\n",
       "    </tr>\n",
       "    <tr>\n",
       "      <th>175211</th>\n",
       "      <td>57.2</td>\n",
       "      <td>82.808047</td>\n",
       "    </tr>\n",
       "    <tr>\n",
       "      <th>147847</th>\n",
       "      <td>74.0</td>\n",
       "      <td>77.898672</td>\n",
       "    </tr>\n",
       "    <tr>\n",
       "      <th>...</th>\n",
       "      <td>...</td>\n",
       "      <td>...</td>\n",
       "    </tr>\n",
       "    <tr>\n",
       "      <th>65009</th>\n",
       "      <td>95.3</td>\n",
       "      <td>74.655905</td>\n",
       "    </tr>\n",
       "    <tr>\n",
       "      <th>191699</th>\n",
       "      <td>29.1</td>\n",
       "      <td>80.153621</td>\n",
       "    </tr>\n",
       "    <tr>\n",
       "      <th>98665</th>\n",
       "      <td>88.9</td>\n",
       "      <td>77.359655</td>\n",
       "    </tr>\n",
       "    <tr>\n",
       "      <th>71356</th>\n",
       "      <td>94.4</td>\n",
       "      <td>76.740961</td>\n",
       "    </tr>\n",
       "    <tr>\n",
       "      <th>12869</th>\n",
       "      <td>100.0</td>\n",
       "      <td>78.451074</td>\n",
       "    </tr>\n",
       "  </tbody>\n",
       "</table>\n",
       "<p>59319 rows × 2 columns</p>\n",
       "</div>"
      ],
      "text/plain": [
       "        Original_Y_test  Predicted Y_test\n",
       "58304              96.7         76.386741\n",
       "55933              97.0         77.464775\n",
       "139514             77.3         76.140192\n",
       "175211             57.2         82.808047\n",
       "147847             74.0         77.898672\n",
       "...                 ...               ...\n",
       "65009              95.3         74.655905\n",
       "191699             29.1         80.153621\n",
       "98665              88.9         77.359655\n",
       "71356              94.4         76.740961\n",
       "12869             100.0         78.451074\n",
       "\n",
       "[59319 rows x 2 columns]"
      ]
     },
     "execution_count": 69,
     "metadata": {},
     "output_type": "execute_result"
    }
   ],
   "source": [
    "pd.DataFrame({'Original_Y_test':Y_test,\n",
    "               'Predicted Y_test': Y_test_pred})"
   ]
  },
  {
   "cell_type": "code",
   "execution_count": 70,
   "id": "780209ca-3c39-4c3c-9d4f-629303c341e1",
   "metadata": {},
   "outputs": [
    {
     "data": {
      "text/plain": [
       "0.05630933688091744"
      ]
     },
     "execution_count": 70,
     "metadata": {},
     "output_type": "execute_result"
    }
   ],
   "source": [
    "r2_score(Y_test,Y_test_pred)"
   ]
  },
  {
   "cell_type": "code",
   "execution_count": null,
   "id": "948b753b-8fb9-43a4-93e5-1c260d9a25d8",
   "metadata": {},
   "outputs": [],
   "source": []
  },
  {
   "cell_type": "code",
   "execution_count": null,
   "id": "301d6d61-658e-4e80-afa6-54c766b631bd",
   "metadata": {},
   "outputs": [],
   "source": []
  }
 ],
 "metadata": {
  "kernelspec": {
   "display_name": "Python 3 (ipykernel)",
   "language": "python",
   "name": "python3"
  },
  "language_info": {
   "codemirror_mode": {
    "name": "ipython",
    "version": 3
   },
   "file_extension": ".py",
   "mimetype": "text/x-python",
   "name": "python",
   "nbconvert_exporter": "python",
   "pygments_lexer": "ipython3",
   "version": "3.11.7"
  }
 },
 "nbformat": 4,
 "nbformat_minor": 5
}
